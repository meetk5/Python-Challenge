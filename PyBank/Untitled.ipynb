{
 "cells": [
  {
   "cell_type": "code",
   "execution_count": 19,
   "id": "45ecc96a",
   "metadata": {},
   "outputs": [
    {
     "name": "stdout",
     "output_type": "stream",
     "text": [
      "<_csv.reader object at 0x7f905801b200>\n",
      "CSV Header Date,Profit/Losses\n",
      "\n",
      "Total Months:  86\n",
      "Total: $ 38382578.0\n"
     ]
    }
   ],
   "source": [
    "import os\n",
    "import csv\n",
    "\n",
    "filepath = os.path.join(\"Resources\",\"budget_data.csv\")\n",
    "\n",
    "with open(filepath) as inputDoc:\n",
    "    csvfile = csv.reader(inputDoc,delimiter = \",\")\n",
    "    print(csvfile)\n",
    "    csv_header = next(inputDoc)\n",
    "    print(\"CSV Header \"+csv_header)\n",
    "\n",
    "    #No_of_rows = len(list(csvfile))\n",
    "    print(\"Total Months: \", No_of_rows)\n",
    "    \n",
    "    total = 0\n",
    "    for eachrow in csvfile:\n",
    "       # print(eachrow[1])\n",
    "        total = total + float(eachrow[1])\n",
    "    print (\"Total: $\",total)\n"
   ]
  },
  {
   "cell_type": "code",
   "execution_count": 29,
   "id": "03f7b186",
   "metadata": {},
   "outputs": [
    {
     "name": "stdout",
     "output_type": "stream",
     "text": [
      "First Row is Jan-2010,867884\n",
      "\n"
     ]
    },
    {
     "ename": "ValueError",
     "evalue": "invalid literal for int() with base 10: 'Jan-2010,867884\\n'",
     "output_type": "error",
     "traceback": [
      "\u001b[0;31m---------------------------------------------------------------------------\u001b[0m",
      "\u001b[0;31mValueError\u001b[0m                                Traceback (most recent call last)",
      "\u001b[0;32m<ipython-input-29-a85109d20ebf>\u001b[0m in \u001b[0;36m<module>\u001b[0;34m\u001b[0m\n\u001b[1;32m     18\u001b[0m     \u001b[0mfirstrow\u001b[0m \u001b[0;34m=\u001b[0m \u001b[0mnext\u001b[0m\u001b[0;34m(\u001b[0m\u001b[0minputDoc\u001b[0m\u001b[0;34m,\u001b[0m\u001b[0;34m[\u001b[0m\u001b[0;36m1\u001b[0m\u001b[0;34m]\u001b[0m\u001b[0;34m)\u001b[0m\u001b[0;34m\u001b[0m\u001b[0;34m\u001b[0m\u001b[0m\n\u001b[1;32m     19\u001b[0m     \u001b[0mprint\u001b[0m\u001b[0;34m(\u001b[0m\u001b[0;34m\"First Row is\"\u001b[0m\u001b[0;34m,\u001b[0m\u001b[0mfirstrow\u001b[0m\u001b[0;34m)\u001b[0m\u001b[0;34m\u001b[0m\u001b[0;34m\u001b[0m\u001b[0m\n\u001b[0;32m---> 20\u001b[0;31m     \u001b[0mpreviousVal\u001b[0m \u001b[0;34m=\u001b[0m \u001b[0mint\u001b[0m\u001b[0;34m(\u001b[0m\u001b[0mfirstrow\u001b[0m\u001b[0;34m)\u001b[0m\u001b[0;34m\u001b[0m\u001b[0;34m\u001b[0m\u001b[0m\n\u001b[0m\u001b[1;32m     21\u001b[0m     \u001b[0mprint\u001b[0m \u001b[0;34m(\u001b[0m\u001b[0mpreviousVal\u001b[0m\u001b[0;34m)\u001b[0m\u001b[0;34m\u001b[0m\u001b[0;34m\u001b[0m\u001b[0m\n\u001b[1;32m     22\u001b[0m \u001b[0;34m\u001b[0m\u001b[0m\n",
      "\u001b[0;31mValueError\u001b[0m: invalid literal for int() with base 10: 'Jan-2010,867884\\n'"
     ]
    }
   ],
   "source": [
    "import os\n",
    "import csv\n",
    "\n",
    "filepath = os.path.join(\"Resources\",\"budget_data.csv\")\n",
    "\n",
    "with open(filepath) as inputDoc:\n",
    "    csvfile = csv.reader(inputDoc,delimiter = \",\")\n",
    "  #  print(csvfile)\n",
    "    csv_header = next(inputDoc)\n",
    "  #  print(\"CSV Header \"+csv_header)\n",
    "\n",
    "   # No_of_rows = len(list(csvfile))\n",
    "    #print(\"Total Months: \", No_of_rows)\n",
    "    \n",
    "    total = 0\n",
    "    rowcount = 0\n",
    "   # differencelist = []\n",
    "    firstrow = next(inputDoc,[1])\n",
    "    print(\"First Row is\",firstrow)\n",
    "    previousVal = int(firstrow)\n",
    "    print (previousVal)\n",
    "\n",
    "   # def average(numbers):\n",
    "    #    length = len(numbers)\n",
    "    #    sum = 0.0\n",
    "    #    for number in numbers:\n",
    "    #        sum += number\n",
    "    #    return sum/length\n",
    "\n",
    "    for row in csvfile:\n",
    "        differencelist = []\n",
    "        total = total + float(row[1])\n",
    "        rowcount = rowcount + 1\n",
    "    #    difference = float(row[1]) - currentvalue\n",
    "        currentvalue = float(row[1])\n",
    "        \n",
    "     #   print (difference)\n",
    "    #   # differencelist = differencelist.append(difference)\n",
    "   # print(differencelist)\n",
    "        #average(differencelist)\n",
    "        \n",
    "    print (\"Financial Analysis\\n-------------------------\")\n",
    "    print (\"Total Months:\",rowcount)\n",
    "    print (\"Total: $\"+str(total))\n",
    "   \n",
    "\n",
    "\n",
    "\n"
   ]
  },
  {
   "cell_type": "code",
   "execution_count": null,
   "id": "d8ed1381",
   "metadata": {},
   "outputs": [],
   "source": []
  }
 ],
 "metadata": {
  "kernelspec": {
   "display_name": "Python 3",
   "language": "python",
   "name": "python3"
  },
  "language_info": {
   "codemirror_mode": {
    "name": "ipython",
    "version": 3
   },
   "file_extension": ".py",
   "mimetype": "text/x-python",
   "name": "python",
   "nbconvert_exporter": "python",
   "pygments_lexer": "ipython3",
   "version": "3.8.8"
  }
 },
 "nbformat": 4,
 "nbformat_minor": 5
}
